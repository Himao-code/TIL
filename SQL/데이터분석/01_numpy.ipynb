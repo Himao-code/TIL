{
 "cells": [
  {
   "cell_type": "markdown",
   "id": "9c3f2ab2",
   "metadata": {},
   "source": [
    "# 데이터 분석: 데이터를 분석하여 의사결정에 도움을 준다. \n",
    "\n",
    "- 통계 vs 데이터분석 vs 머신러닝\n",
    "  - 통계: 데이터를 **요약, 해석하는** 수학(평균, 분산)\n",
    "  - 데이터분석: **문제를 정의하고 인사이트 도출**(고객 구매 패턴 분석)\n",
    "  - 머신러닝: 데이터를 학습하여 **예측**(스팸함 분류, 추천)\n",
    "\n",
    "- DA 흐름\n",
    "  1. 문제정의\n",
    "  2. **데이터 수집**\n",
    "  3. **데이터 정제(결측치, 이상치 처리)**\n",
    "  4. **데이터 탐색-시각화(평균, 분포, 상관관계, 막대그래프, 히스토그램)**\n",
    "  5. **통계 분석 및 해석**\n",
    "  6. 결론 도출\n",
    "\n",
    "- 데이터 분석 도구(시트 vs SQL vs Python)\n",
    "  - 시트는 편함(ex 밀키트)\n",
    "  - DB는 대용량 저장 및 처리(억단위) ex 냉장고\n",
    "  - 시각화, 분석, 머신러닝 ex 요리\n",
    "\n",
    "- 라이브러리(Numpy vs Pandas)\n",
    "  - Numpy: 빠름(배열 연산)\n",
    "  - Pandas: 표(DataFrame)-> Numpy 기반으로 만들어짐 \n",
    "  - matplotlib: 시각화(그래프)\n",
    "  - seaborn: 시각화 심화\n",
    "  - scikit-learn: 머신러닝"
   ]
  },
  {
   "cell_type": "code",
   "execution_count": null,
   "id": "7ea51aad",
   "metadata": {},
   "outputs": [],
   "source": [
    "%pip install numpy"
   ]
  },
  {
   "cell_type": "code",
   "execution_count": 10,
   "id": "c4e741b7",
   "metadata": {},
   "outputs": [
    {
     "name": "stdout",
     "output_type": "stream",
     "text": [
      "[ 2  4  6  8 10]\n"
     ]
    }
   ],
   "source": [
    "import numpy as np\n",
    "\n",
    "array = np.array([1,2,3,4,5])\n",
    "result = array *2\n",
    "print(result)\n"
   ]
  },
  {
   "cell_type": "code",
   "execution_count": 12,
   "id": "f489cd96",
   "metadata": {},
   "outputs": [
    {
     "data": {
      "text/plain": [
       "array([1, 2, 3, 4, 5])"
      ]
     },
     "execution_count": 12,
     "metadata": {},
     "output_type": "execute_result"
    }
   ],
   "source": [
    "arr = np.array([1,2,3,4,5])\n",
    "arr"
   ]
  },
  {
   "cell_type": "code",
   "execution_count": null,
   "id": "8abf2253",
   "metadata": {},
   "outputs": [],
   "source": [
    "np.array([1,2,3,4], dtype=float)"
   ]
  },
  {
   "cell_type": "code",
   "execution_count": 16,
   "id": "90b8d7a8",
   "metadata": {},
   "outputs": [
    {
     "name": "stdout",
     "output_type": "stream",
     "text": [
      "[0. 0. 0. 0. 0.] [[0. 0. 0.]\n",
      " [0. 0. 0.]]\n",
      "[1. 1. 1. 1. 1.] [[1. 1. 1.]\n",
      " [1. 1. 1.]]\n"
     ]
    }
   ],
   "source": [
    "#0으로 채움\n",
    "z1d = np.zeros(5)\n",
    "z2d = np.zeros((2,3))\n",
    "print(z1d, z2d)\n",
    "\n",
    "# 1로 채움\n",
    "o1d = np.ones(5)\n",
    "o2d = np.ones((2, 3))\n",
    "print(o1d, o2d)\n",
    "\n",
    "# n으로 채움 -> 5칸 7로 채움\n",
    "n1d = np.full(5, 7)\n",
    "\n"
   ]
  },
  {
   "cell_type": "code",
   "execution_count": 20,
   "id": "ef23f961",
   "metadata": {},
   "outputs": [
    {
     "name": "stdout",
     "output_type": "stream",
     "text": [
      "[0 2 4 6 8]\n",
      "[0.   0.25 0.5  0.75 1.  ]\n",
      "[  1.           3.16227766  10.          31.6227766  100.        ]\n"
     ]
    }
   ],
   "source": [
    "# range\n",
    "range_arr = np.arange(0, 10, 2)\n",
    "print(range_arr)\n",
    "# 등간격 실수 배열\n",
    "lin_space = np.linspace(0,1,5)\n",
    "print(lin_space)\n",
    "\n",
    "# 로그스케일\n",
    "log_space = np.logspace(0,2,5)\n",
    "print(log_space)"
   ]
  },
  {
   "cell_type": "code",
   "execution_count": 26,
   "id": "4e68b28c",
   "metadata": {},
   "outputs": [
    {
     "name": "stdout",
     "output_type": "stream",
     "text": [
      "[[0.00902458 0.36618817 0.20027892]\n",
      " [0.41842288 0.04740506 0.06030484]\n",
      " [0.62617662 0.75459653 0.33766833]]\n",
      "[[ 2.2220069  -0.68784553 -1.76399155]\n",
      " [-0.5846757  -0.38353757 -1.15144495]\n",
      " [-0.24251389  1.15941511 -0.53373171]]\n",
      "[[2 1 5]\n",
      " [8 7 7]\n",
      " [5 2 0]]\n"
     ]
    }
   ],
   "source": [
    "# 난수배열\n",
    "\n",
    "random = np.random.rand(3, 3)\n",
    "print(random)\n",
    "\n",
    "# 정규 분표 난수\n",
    "nomal = np.random.randn(3,3)\n",
    "print(nomal)\n",
    "\n",
    "# 정수 난수(0~9, 3*3)\n",
    "int_random = np.random.randint(0, 10, (3, 3))\n",
    "print(int_random)"
   ]
  },
  {
   "cell_type": "code",
   "execution_count": 28,
   "id": "cb6ccac6",
   "metadata": {},
   "outputs": [
    {
     "name": "stdout",
     "output_type": "stream",
     "text": [
      "float64\n",
      "float64\n",
      "[1.2 2.3 3.4] float64\n"
     ]
    }
   ],
   "source": [
    "# 배열의 데이터 타입\n",
    "# 데이터 타입 확인\n",
    "arr = np.array([1,2,3], dtype=np.float64)\n",
    "print(arr.dtype)\n",
    "\n",
    "# 데이터 타입 지정 생성\n",
    "f_arr = np.array([1,2,3], dtype=np.float64)\n",
    "print(f_arr.dtype)\n",
    "\n",
    "# 문자열-> 숫자\n",
    "str_arr = np.array(['1.2', '2.3', '3.4'])\n",
    "num_arr = str_arr.astype(float)\n",
    "print(num_arr, num_arr.dtype)"
   ]
  },
  {
   "cell_type": "code",
   "execution_count": 32,
   "id": "7b53422d",
   "metadata": {},
   "outputs": [
    {
     "name": "stdout",
     "output_type": "stream",
     "text": [
      "[[ 0  1  2  3]\n",
      " [ 4  5  6  7]\n",
      " [ 8  9 10 11]]\n",
      "[ 0  1  2  3  4  5  6  7  8  9 10 11]\n"
     ]
    }
   ],
   "source": [
    "# reshape -> 원본 그대로, 새로운 배열 만듬\n",
    "# resize -> 원본을 바꿈\n",
    "\n",
    "arr = np.arange(12)\n",
    "reshape = arr.reshape(3,4)\n",
    "print(reshape)\n",
    "print(arr)"
   ]
  },
  {
   "cell_type": "code",
   "execution_count": null,
   "id": "05120359",
   "metadata": {},
   "outputs": [
    {
     "name": "stdout",
     "output_type": "stream",
     "text": [
      "[ 1  2  3  4  5  6  7  8  9 10 11 12 13 14 15] [ 1  2  3  4  5  6  7  8  9 10 11 12 13 14 15]\n"
     ]
    }
   ],
   "source": [
    "# 1~15 정수배열\n",
    "print(np.arange(1, 16), np.array(range(1,16)))\n",
    "\n",
    "# 0~9까지 홀수\n",
    "print(np.arange)\n"
   ]
  },
  {
   "cell_type": "code",
   "execution_count": 36,
   "id": "867ad819",
   "metadata": {},
   "outputs": [
    {
     "name": "stdout",
     "output_type": "stream",
     "text": [
      "[[100   2   3]\n",
      " [  4   5   6]]\n",
      "[100   2   3   4   5   6] [-100    2    3    4    5    6]\n"
     ]
    }
   ],
   "source": [
    "# N차원 -> 1차원\n",
    "arr = np.array([[1,2,3], [4,5,6]])\n",
    "\n",
    "r = arr.ravel() # 뷰 원본연결\n",
    "f = arr.flatten() # 복사본\n",
    "\n",
    "r[0] = 100\n",
    "f[0] = -100\n",
    "\n",
    "print(arr)\n",
    "print(r, f)"
   ]
  },
  {
   "cell_type": "code",
   "execution_count": 37,
   "id": "57decbee",
   "metadata": {},
   "outputs": [
    {
     "name": "stdout",
     "output_type": "stream",
     "text": [
      "[[ 0  1  2  3]\n",
      " [ 4  5  6  7]\n",
      " [ 8  9 10 11]\n",
      " [12 13 14 15]]\n",
      "[[ 0  0  2  3]\n",
      " [ 0  0  6  7]\n",
      " [ 8  9 10 11]\n",
      " [12 13 14 15]]\n"
     ]
    }
   ],
   "source": [
    "import numpy as np\n",
    "\n",
    "arr_2d = np.arange(16).reshape(4, 4)\n",
    "\n",
    "print(arr_2d)\n",
    "\n",
    "arr_2d[0:2, 0:2] = 0  # 0~1행, 0~1열 영역을 0으로 바꿈\n",
    "\n",
    "print(arr_2d)"
   ]
  },
  {
   "cell_type": "code",
   "execution_count": 38,
   "id": "548891d0",
   "metadata": {},
   "outputs": [
    {
     "name": "stdout",
     "output_type": "stream",
     "text": [
      "[[ 0  0  2  3]\n",
      " [ 0  0  6  7]\n",
      " [ 8  9 10 11]\n",
      " [12 13 14 15]]\n",
      "[[ 0  0  2  3]\n",
      " [ 0  0  6  7]\n",
      " [ 8  9 10 11]\n",
      " [12 13 14 15]]\n"
     ]
    }
   ],
   "source": [
    "# 다차원 배열 슬라이싱으로 변경\n",
    "print(arr_2d)\n",
    "\n",
    "arr_2d[0:2, 0:2] = 0\n",
    "\n",
    "print(arr_2d)\n"
   ]
  },
  {
   "cell_type": "code",
   "execution_count": null,
   "id": "c4de2320",
   "metadata": {},
   "outputs": [
    {
     "name": "stdout",
     "output_type": "stream",
     "text": [
      "[False False False  True  True] [1 2 3 4 5]\n"
     ]
    }
   ],
   "source": [
    "# boolean 인덱싱\n",
    "# 조건에 따라 배열 요소 선택\n",
    "arr = np.arange(1, 6) \n",
    "\n",
    "# 마스킹 -> T/F로 바꿈\n",
    "mask = arr > 3\n",
    "print(mask, arr)"
   ]
  },
  {
   "cell_type": "code",
   "execution_count": null,
   "id": "f2962915",
   "metadata": {},
   "outputs": [],
   "source": []
  }
 ],
 "metadata": {
  "kernelspec": {
   "display_name": "Python 3",
   "language": "python",
   "name": "python3"
  },
  "language_info": {
   "codemirror_mode": {
    "name": "ipython",
    "version": 3
   },
   "file_extension": ".py",
   "mimetype": "text/x-python",
   "name": "python",
   "nbconvert_exporter": "python",
   "pygments_lexer": "ipython3",
   "version": "3.13.2"
  }
 },
 "nbformat": 4,
 "nbformat_minor": 5
}
