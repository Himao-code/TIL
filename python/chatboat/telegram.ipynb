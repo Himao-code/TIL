{
 "cells": [
  {
   "cell_type": "code",
   "execution_count": 24,
   "id": "46904520",
   "metadata": {},
   "outputs": [],
   "source": [
    "bot_token = '7916006082:AAH2TGJ1O0SGFVOoR4iFfd19QxQRODa3jwA'"
   ]
  },
  {
   "cell_type": "code",
   "execution_count": 25,
   "id": "6e6c0f26",
   "metadata": {},
   "outputs": [],
   "source": [
    "# 고정된 url. 뒤에 붙는 말에 따라 다른 요청이 됨\n",
    "URL = f'https://api.telegram.org/bot{bot_token}'"
   ]
  },
  {
   "cell_type": "code",
   "execution_count": 26,
   "id": "5c7bd17d",
   "metadata": {},
   "outputs": [
    {
     "data": {
      "text/plain": [
       "'https://api.telegram.org/bot7916006082:AAH2TGJ1O0SGFVOoR4iFfd19QxQRODa3jwA/getUpdates'"
      ]
     },
     "execution_count": 26,
     "metadata": {},
     "output_type": "execute_result"
    }
   ],
   "source": [
    "URL + '/getUpdates'"
   ]
  },
  {
   "cell_type": "code",
   "execution_count": 29,
   "id": "0d24ad5a",
   "metadata": {},
   "outputs": [
    {
     "name": "stdout",
     "output_type": "stream",
     "text": [
      "https://api.telegram.org/bot7916006082:AAH2TGJ1O0SGFVOoR4iFfd19QxQRODa3jwA/sendmessage\n"
     ]
    }
   ],
   "source": [
    "#목적지\n",
    "my_id = '8264346924'\n",
    "#메세지\n",
    "message = '반갑습니다. 무엇을 도와드릴까요?'\n",
    "\n",
    "print(URL + '/sendmessage')"
   ]
  },
  {
   "cell_type": "code",
   "execution_count": 30,
   "id": "f6e9cf66",
   "metadata": {},
   "outputs": [],
   "source": [
    "data = {\n",
    "    \"ok\": True,\n",
    "    \"result\": [\n",
    "        {\n",
    "            \"update_id\": 540344396,\n",
    "            \"message\": {\n",
    "                \"message_id\": 1,\n",
    "                \"from\": {\n",
    "                    \"id\": 8264346924,\n",
    "                    \"is_bot\": False,\n",
    "                    \"first_name\": \"Gwanji\",\n",
    "                    \"last_name\": \"Park\",\n",
    "                    \"language_code\": \"ko\"\n",
    "                },\n",
    "                \"chat\": {\n",
    "                    \"id\": 8264346924,\n",
    "                    \"first_name\": \"Gwanji\",\n",
    "                    \"last_name\": \"Park\",\n",
    "                    \"type\": \"private\"\n",
    "                },\n",
    "                \"date\": 1753323137,\n",
    "                \"text\": \"/start\",\n",
    "                \"entities\": [\n",
    "                    {\n",
    "                        \"offset\": 0,\n",
    "                        \"length\": 6,\n",
    "                        \"type\": \"bot_command\"\n",
    "                    }\n",
    "                ]\n",
    "            }\n",
    "        },\n",
    "        {\n",
    "            \"update_id\": 540344397,\n",
    "            \"message\": {\n",
    "                \"message_id\": 2,\n",
    "                \"from\": {\n",
    "                    \"id\": 8264346924,\n",
    "                    \"is_bot\": False,\n",
    "                    \"first_name\": \"Gwanji\",\n",
    "                    \"last_name\": \"Park\",\n",
    "                    \"language_code\": \"ko\"\n",
    "                },\n",
    "                \"chat\": {\n",
    "                    \"id\": 8264346924,\n",
    "                    \"first_name\": \"Gwanji\",\n",
    "                    \"last_name\": \"Park\",\n",
    "                    \"type\": \"private\"\n",
    "                },\n",
    "                \"date\": 1753323749,\n",
    "                \"text\": \"메세지 갔나요\"\n",
    "            }\n",
    "        },\n",
    "        {\n",
    "            \"update_id\": 540344398,\n",
    "            \"message\": {\n",
    "                \"message_id\": 5,\n",
    "                \"from\": {\n",
    "                    \"id\": 8264346924,\n",
    "                    \"is_bot\": False,\n",
    "                    \"first_name\": \"Gwanji\",\n",
    "                    \"last_name\": \"Park\",\n",
    "                    \"language_code\": \"ko\"\n",
    "                },\n",
    "                \"chat\": {\n",
    "                    \"id\": 8264346924,\n",
    "                    \"first_name\": \"Gwanji\",\n",
    "                    \"last_name\": \"Park\",\n",
    "                    \"type\": \"private\"\n",
    "                },\n",
    "                \"date\": 1753330842,\n",
    "                \"text\": \"로또\"\n",
    "            }\n",
    "        }\n",
    "    ]\n",
    "}"
   ]
  },
  {
   "cell_type": "code",
   "execution_count": 101,
   "id": "8eaca826",
   "metadata": {},
   "outputs": [
    {
     "name": "stdout",
     "output_type": "stream",
     "text": [
      "로또 8264346924\n"
     ]
    }
   ],
   "source": [
    "import requests\n",
    "data = requests.get(URL + '/getUpdates').json()# 실행 할때마다 코드 전부 안들고 와도 업데이트가 있을거임 긴 코드랑 같은 말\n",
    "# getupdates 로 요청 보내고 _> 응답 json으로 받아서 저장(실행할때마다 갱신)\n",
    "\n",
    "# 데이터 안에 마지막 메세지의 내용(TEXT)을 뽑아라\n",
    "input_msg = data[\"result\"][-1][\"message\"][\"text\"]\n",
    "sender_id= data[\"result\"][-1][\"message\"][\"from\"]['id']\n",
    "print(input_msg, sender_id)\n"
   ]
  },
  {
   "cell_type": "code",
   "execution_count": 102,
   "id": "d772dfef",
   "metadata": {},
   "outputs": [],
   "source": [
    "import random\n",
    "if input_msg in ('로또','행운의번호'): \n",
    "    output_msg = str(random.sample(range(1, 46), 6))\n",
    "elif input_msg == '안녕':\n",
    "    output_msg = \"오냐\"\n",
    "else:\n",
    "   output_msg = '몰라'\n",
    "\n"
   ]
  },
  {
   "cell_type": "code",
   "execution_count": 103,
   "id": "38bec548",
   "metadata": {},
   "outputs": [
    {
     "data": {
      "text/plain": [
       "{'ok': True,\n",
       " 'result': {'message_id': 45,\n",
       "  'from': {'id': 7916006082,\n",
       "   'is_bot': True,\n",
       "   'first_name': 'genie',\n",
       "   'username': 'genie_1st_bot'},\n",
       "  'chat': {'id': 8264346924,\n",
       "   'first_name': 'Gwanji',\n",
       "   'last_name': 'Park',\n",
       "   'type': 'private'},\n",
       "  'date': 1753339312,\n",
       "  'text': '[12, 14, 33, 5, 23, 38]'}}"
      ]
     },
     "execution_count": 103,
     "metadata": {},
     "output_type": "execute_result"
    }
   ],
   "source": [
    "body = {\n",
    "    #누구한테\n",
    "    'chat_id' : sender_id,\n",
    "    #답변메세지\n",
    "    'text' : output_msg,\n",
    "} \n",
    "requests.get(URL + f'/sendMessage', body).json()"
   ]
  },
  {
   "cell_type": "code",
   "execution_count": 79,
   "id": "091ea0ea",
   "metadata": {},
   "outputs": [
    {
     "data": {
      "text/plain": [
       "{'ok': True,\n",
       " 'result': {'message_id': 24,\n",
       "  'from': {'id': 7916006082,\n",
       "   'is_bot': True,\n",
       "   'first_name': 'genie',\n",
       "   'username': 'genie_1st_bot'},\n",
       "  'chat': {'id': 8264346924,\n",
       "   'first_name': 'Gwanji',\n",
       "   'last_name': 'Park',\n",
       "   'type': 'private'},\n",
       "  'date': 1753337467,\n",
       "  'text': '행운의 번호'}}"
      ]
     },
     "execution_count": 79,
     "metadata": {},
     "output_type": "execute_result"
    }
   ],
   "source": [
    "body = {\n",
    "    'chat_id' : last_chat_id,\n",
    "    'text' : last_text,\n",
    "\n",
    "}\n",
    "requests.get(URL + f'/sendmessage',body).json()"
   ]
  }
 ],
 "metadata": {
  "kernelspec": {
   "display_name": "Python 3",
   "language": "python",
   "name": "python3"
  },
  "language_info": {
   "codemirror_mode": {
    "name": "ipython",
    "version": 3
   },
   "file_extension": ".py",
   "mimetype": "text/x-python",
   "name": "python",
   "nbconvert_exporter": "python",
   "pygments_lexer": "ipython3",
   "version": "3.13.2"
  }
 },
 "nbformat": 4,
 "nbformat_minor": 5
}
