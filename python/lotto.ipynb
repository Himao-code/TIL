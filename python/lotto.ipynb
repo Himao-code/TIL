{
 "cells": [
  {
   "cell_type": "code",
   "execution_count": 5,
   "id": "6bd6c29d",
   "metadata": {},
   "outputs": [],
   "source": [
    "import random\n",
    "my_numbers = random.sample(range(1, 46), 6)"
   ]
  },
  {
   "cell_type": "code",
   "execution_count": 2,
   "id": "023773f3",
   "metadata": {},
   "outputs": [],
   "source": [
    "import requests\n",
    "URL = 'https://www.dhlottery.co.kr/common.do?method=getLottoNumber&drwNo=1'\n",
    "\n",
    "res = requests.get(URL)"
   ]
  },
  {
   "cell_type": "code",
   "execution_count": 3,
   "id": "77df80ce",
   "metadata": {},
   "outputs": [],
   "source": [
    "data = res.json()"
   ]
  },
  {
   "cell_type": "code",
   "execution_count": 11,
   "id": "2e5b3d09",
   "metadata": {},
   "outputs": [
    {
     "ename": "KeyError",
     "evalue": "'bnusbNo'",
     "output_type": "error",
     "traceback": [
      "\u001b[31m---------------------------------------------------------------------------\u001b[39m",
      "\u001b[31mKeyError\u001b[39m                                  Traceback (most recent call last)",
      "\u001b[36mCell\u001b[39m\u001b[36m \u001b[39m\u001b[32mIn[11]\u001b[39m\u001b[32m, line 7\u001b[39m\n\u001b[32m      1\u001b[39m \u001b[38;5;66;03m# 1. data에서 real_numbers를 뽑는다.\u001b[39;00m\n\u001b[32m      2\u001b[39m real_numbers = [\n\u001b[32m      3\u001b[39m     data[\u001b[33m'\u001b[39m\u001b[33mdrwtNo1\u001b[39m\u001b[33m'\u001b[39m],\n\u001b[32m      4\u001b[39m     data[\u001b[33m'\u001b[39m\u001b[33mdrwtNo2\u001b[39m\u001b[33m'\u001b[39m],\n\u001b[32m      5\u001b[39m     data[\u001b[33m'\u001b[39m\u001b[33mdrwtNo3\u001b[39m\u001b[33m'\u001b[39m],\n\u001b[32m      6\u001b[39m ]\n\u001b[32m----> \u001b[39m\u001b[32m7\u001b[39m bonus = \u001b[43mdata\u001b[49m\u001b[43m[\u001b[49m\u001b[33;43m'\u001b[39;49m\u001b[33;43mbnusbNo\u001b[39;49m\u001b[33;43m'\u001b[39;49m\u001b[43m]\u001b[49m\n",
      "\u001b[31mKeyError\u001b[39m: 'bnusbNo'"
     ]
    }
   ],
   "source": [
    "\n",
    "\n",
    "# 1. data에서 real_numbers를 뽑는다.\n",
    "real_numbers = [\n",
    "    data['drwtNo1'],\n",
    "    data['drwtNo2'],\n",
    "    data['drwtNo3'],\n",
    "]\n",
    "bonus = data['bnusbNo']"
   ]
  }
 ],
 "metadata": {
  "kernelspec": {
   "display_name": "Python 3",
   "language": "python",
   "name": "python3"
  },
  "language_info": {
   "codemirror_mode": {
    "name": "ipython",
    "version": 3
   },
   "file_extension": ".py",
   "mimetype": "text/x-python",
   "name": "python",
   "nbconvert_exporter": "python",
   "pygments_lexer": "ipython3",
   "version": "3.13.2"
  }
 },
 "nbformat": 4,
 "nbformat_minor": 5
}
